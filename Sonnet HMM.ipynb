{
 "cells": [
  {
   "cell_type": "code",
   "execution_count": 46,
   "metadata": {},
   "outputs": [
    {
     "name": "stdout",
     "output_type": "stream",
     "text": [
      "NLTK Downloader\n",
      "---------------------------------------------------------------------------\n",
      "    d) Download   l) List    u) Update   c) Config   h) Help   q) Quit\n",
      "---------------------------------------------------------------------------\n",
      "Downloader> Download\n",
      "Command 'Download' unrecognized\n",
      "\n",
      "---------------------------------------------------------------------------\n",
      "    d) Download   l) List    u) Update   c) Config   h) Help   q) Quit\n",
      "---------------------------------------------------------------------------\n",
      "Downloader> d\n",
      "\n",
      "Download which package (l=list; x=cancel)?\n",
      "  Identifier> tokenizers/punkt/english.pickle\n",
      "    Error loading tokenizers/punkt/english.pickle: Package\n",
      "        'tokenizers/punkt/english.pickle' not found in index\n",
      "\n",
      "---------------------------------------------------------------------------\n",
      "    d) Download   l) List    u) Update   c) Config   h) Help   q) Quit\n",
      "---------------------------------------------------------------------------\n",
      "Downloader> l\n",
      "\n",
      "Packages:\n",
      "  [ ] abc................. Australian Broadcasting Commission 2006\n",
      "  [ ] alpino.............. Alpino Dutch Treebank\n",
      "  [ ] averaged_perceptron_tagger Averaged Perceptron Tagger\n",
      "  [ ] averaged_perceptron_tagger_ru Averaged Perceptron Tagger (Russian)\n",
      "  [ ] basque_grammars..... Grammars for Basque\n",
      "  [ ] biocreative_ppi..... BioCreAtIvE (Critical Assessment of Information\n",
      "                           Extraction Systems in Biology)\n",
      "  [ ] bllip_wsj_no_aux.... BLLIP Parser: WSJ Model\n",
      "  [ ] book_grammars....... Grammars from NLTK Book\n",
      "  [ ] brown............... Brown Corpus\n",
      "  [ ] brown_tei........... Brown Corpus (TEI XML Version)\n",
      "  [ ] cess_cat............ CESS-CAT Treebank\n",
      "  [ ] cess_esp............ CESS-ESP Treebank\n",
      "  [ ] chat80.............. Chat-80 Data Files\n",
      "  [ ] city_database....... City Database\n",
      "  [ ] cmudict............. The Carnegie Mellon Pronouncing Dictionary (0.6)\n",
      "  [ ] comparative_sentences Comparative Sentence Dataset\n",
      "  [ ] comtrans............ ComTrans Corpus Sample\n",
      "  [ ] conll2000........... CONLL 2000 Chunking Corpus\n",
      "  [ ] conll2002........... CONLL 2002 Named Entity Recognition Corpus\n",
      "Hit Enter to continue: h\n",
      "  [ ] conll2007........... Dependency Treebanks from CoNLL 2007 (Catalan\n",
      "                           and Basque Subset)\n",
      "  [ ] crubadan............ Crubadan Corpus\n",
      "  [ ] dependency_treebank. Dependency Parsed Treebank\n",
      "  [ ] dolch............... Dolch Word List\n",
      "  [ ] europarl_raw........ Sample European Parliament Proceedings Parallel\n",
      "                           Corpus\n",
      "  [ ] floresta............ Portuguese Treebank\n",
      "  [ ] framenet_v15........ FrameNet 1.5\n",
      "  [ ] framenet_v17........ FrameNet 1.7\n",
      "  [ ] gazetteers.......... Gazeteer Lists\n",
      "  [ ] genesis............. Genesis Corpus\n",
      "  [ ] gutenberg........... Project Gutenberg Selections\n",
      "  [ ] ieer................ NIST IE-ER DATA SAMPLE\n",
      "  [ ] inaugural........... C-Span Inaugural Address Corpus\n",
      "  [ ] indian.............. Indian Language POS-Tagged Corpus\n",
      "  [ ] jeita............... JEITA Public Morphologically Tagged Corpus (in\n",
      "                           ChaSen format)\n",
      "  [ ] kimmo............... PC-KIMMO Data Files\n",
      "  [ ] knbc................ KNB Corpus (Annotated blog corpus)\n",
      "  [ ] large_grammars...... Large context-free and feature-based grammars\n",
      "                           for parser comparison\n",
      "Hit Enter to continue: \n",
      "  [ ] lin_thesaurus....... Lin's Dependency Thesaurus\n",
      "  [ ] mac_morpho.......... MAC-MORPHO: Brazilian Portuguese news text with\n",
      "                           part-of-speech tags\n",
      "  [ ] machado............. Machado de Assis -- Obra Completa\n",
      "  [ ] masc_tagged......... MASC Tagged Corpus\n",
      "  [ ] maxent_ne_chunker... ACE Named Entity Chunker (Maximum entropy)\n",
      "  [ ] maxent_treebank_pos_tagger Treebank Part of Speech Tagger (Maximum entropy)\n",
      "  [ ] moses_sample........ Moses Sample Models\n",
      "  [ ] movie_reviews....... Sentiment Polarity Dataset Version 2.0\n",
      "  [ ] mte_teip5........... MULTEXT-East 1984 annotated corpus 4.0\n",
      "  [ ] mwa_ppdb............ The monolingual word aligner (Sultan et al.\n",
      "                           2015) subset of the Paraphrase Database.\n",
      "  [ ] names............... Names Corpus, Version 1.3 (1994-03-29)\n",
      "  [ ] nombank.1.0......... NomBank Corpus 1.0\n",
      "  [ ] nonbreaking_prefixes Non-Breaking Prefixes (Moses Decoder)\n",
      "  [ ] nps_chat............ NPS Chat\n",
      "  [ ] omw................. Open Multilingual Wordnet\n",
      "  [ ] opinion_lexicon..... Opinion Lexicon\n",
      "  [ ] panlex_swadesh...... PanLex Swadesh Corpora\n",
      "  [ ] paradigms........... Paradigm Corpus\n",
      "  [ ] pe08................ Cross-Framework and Cross-Domain Parser\n",
      "                           Evaluation Shared Task\n",
      "Hit Enter to continue: \n",
      "  [ ] perluniprops........ perluniprops: Index of Unicode Version 7.0.0\n",
      "                           character properties in Perl\n",
      "  [ ] pil................. The Patient Information Leaflet (PIL) Corpus\n",
      "  [ ] pl196x.............. Polish language of the XX century sixties\n",
      "  [ ] porter_test......... Porter Stemmer Test Files\n",
      "  [ ] ppattach............ Prepositional Phrase Attachment Corpus\n",
      "  [ ] problem_reports..... Problem Report Corpus\n",
      "  [ ] product_reviews_1... Product Reviews (5 Products)\n",
      "  [ ] product_reviews_2... Product Reviews (9 Products)\n",
      "  [ ] propbank............ Proposition Bank Corpus 1.0\n",
      "  [ ] pros_cons........... Pros and Cons\n",
      "  [ ] ptb................. Penn Treebank\n",
      "  [ ] punkt............... Punkt Tokenizer Models\n",
      "  [ ] qc.................. Experimental Data for Question Classification\n",
      "  [ ] reuters............. The Reuters-21578 benchmark corpus, ApteMod\n",
      "                           version\n",
      "  [ ] rslp................ RSLP Stemmer (Removedor de Sufixos da Lingua\n",
      "                           Portuguesa)\n",
      "  [ ] rte................. PASCAL RTE Challenges 1, 2, and 3\n",
      "  [ ] sample_grammars..... Sample Grammars\n",
      "  [ ] semcor.............. SemCor 3.0\n",
      "Hit Enter to continue: \n",
      "  [ ] senseval............ SENSEVAL 2 Corpus: Sense Tagged Text\n",
      "  [ ] sentence_polarity... Sentence Polarity Dataset v1.0\n",
      "  [ ] sentiwordnet........ SentiWordNet\n",
      "  [ ] shakespeare......... Shakespeare XML Corpus Sample\n",
      "  [ ] sinica_treebank..... Sinica Treebank Corpus Sample\n",
      "  [ ] smultron............ SMULTRON Corpus Sample\n",
      "  [ ] snowball_data....... Snowball Data\n",
      "  [ ] spanish_grammars.... Grammars for Spanish\n",
      "  [ ] state_union......... C-Span State of the Union Address Corpus\n",
      "  [ ] stopwords........... Stopwords Corpus\n",
      "  [ ] subjectivity........ Subjectivity Dataset v1.0\n",
      "  [ ] swadesh............. Swadesh Wordlists\n",
      "  [ ] switchboard......... Switchboard Corpus Sample\n",
      "  [ ] tagsets............. Help on Tagsets\n",
      "  [ ] timit............... TIMIT Corpus Sample\n",
      "  [ ] toolbox............. Toolbox Sample Files\n",
      "  [ ] treebank............ Penn Treebank Sample\n",
      "  [ ] twitter_samples..... Twitter Samples\n",
      "  [ ] udhr2............... Universal Declaration of Human Rights Corpus\n",
      "                           (Unicode Version)\n",
      "  [ ] udhr................ Universal Declaration of Human Rights Corpus\n",
      "Hit Enter to continue: \n",
      "  [ ] unicode_samples..... Unicode Samples\n",
      "  [ ] universal_tagset.... Mappings to the Universal Part-of-Speech Tagset\n",
      "  [ ] universal_treebanks_v20 Universal Treebanks Version 2.0\n",
      "  [ ] vader_lexicon....... VADER Sentiment Lexicon\n",
      "  [ ] verbnet............. VerbNet Lexicon, Version 2.1\n",
      "  [ ] webtext............. Web Text Corpus\n",
      "  [ ] wmt15_eval.......... Evaluation data from WMT15\n",
      "  [ ] word2vec_sample..... Word2Vec Sample\n",
      "  [ ] wordnet............. WordNet\n",
      "  [ ] wordnet_ic.......... WordNet-InfoContent\n",
      "  [ ] words............... Word Lists\n",
      "  [ ] ycoe................ York-Toronto-Helsinki Parsed Corpus of Old\n",
      "                           English Prose\n",
      "\n",
      "Collections:\n",
      "  [ ] all-corpora......... All the corpora\n",
      "  [ ] all-nltk............ All packages available on nltk_data gh-pages\n",
      "                           branch\n",
      "  [ ] all................. All packages\n",
      "  [ ] book................ Everything used in the NLTK Book\n",
      "  [ ] popular............. Popular packages\n",
      "  [ ] tests............... Packages for running tests\n",
      "Hit Enter to continue: \n",
      "  [ ] third-party......... Third-party data packages\n",
      "\n",
      "([*] marks installed packages)\n",
      "\n",
      "---------------------------------------------------------------------------\n",
      "    d) Download   l) List    u) Update   c) Config   h) Help   q) Quit\n",
      "---------------------------------------------------------------------------\n"
     ]
    },
    {
     "name": "stdout",
     "output_type": "stream",
     "text": [
      "Downloader> d\n",
      "\n",
      "Download which package (l=list; x=cancel)?\n",
      "  Identifier> punkt\n",
      "    Downloading package punkt to\n",
      "        C:\\Users\\Ameera\\AppData\\Roaming\\nltk_data...\n",
      "      Unzipping tokenizers\\punkt.zip.\n",
      "\n",
      "---------------------------------------------------------------------------\n",
      "    d) Download   l) List    u) Update   c) Config   h) Help   q) Quit\n",
      "---------------------------------------------------------------------------\n",
      "Downloader> q\n"
     ]
    },
    {
     "data": {
      "text/plain": [
       "True"
      ]
     },
     "execution_count": 46,
     "metadata": {},
     "output_type": "execute_result"
    }
   ],
   "source": [
    "import numpy as np\n",
    "import nltk\n",
    "from nltk.tokenize import word_tokenize\n",
    "nltk.download()"
   ]
  },
  {
   "cell_type": "code",
   "execution_count": null,
   "metadata": {},
   "outputs": [],
   "source": [
    "# Construct a dictionary mapping from word -> [# syllables], [# syllables when at the end of the word]\n",
    "syl_data = np.loadtxt('./data/Syllable_dictionary.txt', dtype='str', delimiter='\\n')\n",
    "syl_dict = {}\n",
    "for line in syl_data:\n",
    "    syl_list = line.split()\n",
    "    word = syl_list[0]\n",
    "    syl_dict[word] = [[],[]]\n",
    "    for i in range(1, len(syl_list)):\n",
    "        if syl_list[i].startswith('E'):\n",
    "            syl_dict[word][1].append(int(syl_list[i].lstrip('E')))\n",
    "        else:\n",
    "            syl_dict[word][0].append(int(syl_list[i]))"
   ]
  },
  {
   "cell_type": "code",
   "execution_count": 43,
   "metadata": {},
   "outputs": [],
   "source": [
    "sonnet_data = np.loadtxt('./data/shakespeare.txt', dtype='str', delimiter='\\n')"
   ]
  },
  {
   "cell_type": "code",
   "execution_count": 134,
   "metadata": {},
   "outputs": [],
   "source": [
    "# Construct a sequence of tokens from sonnets.\n",
    "sonnets = []\n",
    "for line in sonnet_data:\n",
    "    if line.lstrip().isdigit():\n",
    "        sonnets.append([])\n",
    "    else:\n",
    "        tokens = word_tokenize(line)\n",
    "        for i, token in enumerate(tokens):\n",
    "            if (not token.lower() in syl_dict) and (token.lstrip(\"'\").lower() in syl_dict):\n",
    "                sonnets[-1].append(token.lstrip(\"'\").lower())\n",
    "            elif (not token.lower() in syl_dict) and (token.lower() + \"'\" in syl_dict):\n",
    "                sonnets[-1].append(token.lower() + \"'\")\n",
    "            elif i != len(tokens) - 1 and (tokens[i+1] == \"'s\" or tokens[i+1] == \"'ll\"):\n",
    "                sonnets[-1].append(token.lower() + tokens[i+1])\n",
    "            elif i != len(tokens) - 1 and tokens[i+1] == \"is\" and tokens[i].lower() == \"'t\":\n",
    "                sonnets[-1].append(\"'tis\")\n",
    "            elif token in [\"'s\", \"'\", \"(\", \")\", \"'ll\"]:\n",
    "                continue\n",
    "            elif i != 0 and tokens[i-1].lower() == \"'t\" and tokens[i].lower() == \"is\":\n",
    "                continue\n",
    "            else:\n",
    "                sonnets[-1].append(token.lower())"
   ]
  },
  {
   "cell_type": "code",
   "execution_count": 102,
   "metadata": {},
   "outputs": [],
   "source": [
    "syl_dict['grossly'] = [[2], []]\n",
    "syl_dict['fickle'] = [[2], []]\n",
    "syl_dict['waning'] = [[2], []]\n",
    "syl_dict[\"show'st\"] = [[1], []]\n",
    "syl_dict['over'] = [[2], []]\n",
    "syl_dict['wrack'] = [[1], []]\n",
    "syl_dict['withering'] = [[2], []]\n",
    "syl_dict['goest'] = [[1], []]\n",
    "syl_dict['onwards'] = [[2], []]\n",
    "syl_dict['minion'] = [[2], []]\n",
    "syl_dict['detain'] = [[2], []]\n",
    "syl_dict['delayed'] = [[2], []]\n",
    "syl_dict['answered'] = [[2], []]\n",
    "syl_dict['quietus'] = [[3], []]"
   ]
  },
  {
   "cell_type": "code",
   "execution_count": 180,
   "metadata": {},
   "outputs": [],
   "source": [
    "for punct in ['.',',',':', '?', '!', ';']:\n",
    "    syl_dict[punct] = [[0],[]]"
   ]
  },
  {
   "cell_type": "code",
   "execution_count": 135,
   "metadata": {},
   "outputs": [],
   "source": [
    "for j, sonnet in enumerate(sonnets):\n",
    "    for i, word in enumerate(sonnet):\n",
    "        if not word in syl_dict and not word in ['.',',',':', '?', '!', ';']:\n",
    "            print(str(j) + ' ' + str(i) + ' ' + word)"
   ]
  },
  {
   "cell_type": "code",
   "execution_count": 153,
   "metadata": {},
   "outputs": [],
   "source": [
    "num_tokens = 0\n",
    "token_dict = {}\n",
    "num_dict = {}\n",
    "for j, sonnet in enumerate(sonnets):\n",
    "    for token in sonnet:\n",
    "        if not token in token_dict:\n",
    "            token_dict[token] = num_tokens\n",
    "            num_dict[num_tokens] = token\n",
    "            num_tokens += 1 "
   ]
  },
  {
   "cell_type": "code",
   "execution_count": 137,
   "metadata": {},
   "outputs": [],
   "source": [
    "from hmmlearn.hmm import MultinomialHMM"
   ]
  },
  {
   "cell_type": "code",
   "execution_count": 251,
   "metadata": {},
   "outputs": [],
   "source": [
    "hmm = MultinomialHMM(n_components=100, startprob_prior=1.0, transmat_prior=1.0, algorithm='viterbi', n_iter=10)"
   ]
  },
  {
   "cell_type": "code",
   "execution_count": 252,
   "metadata": {},
   "outputs": [
    {
     "data": {
      "text/plain": [
       "MultinomialHMM(algorithm='viterbi', init_params='ste', n_components=100,\n",
       "        n_iter=10, params='ste',\n",
       "        random_state=<mtrand.RandomState object at 0x00000226A74A1EE8>,\n",
       "        startprob_prior=1.0, tol=0.01, transmat_prior=1.0, verbose=False)"
      ]
     },
     "execution_count": 252,
     "metadata": {},
     "output_type": "execute_result"
    }
   ],
   "source": [
    "flat_sonnets = np.array([token_dict[token] for sonnet in sonnets for token in sonnet]).reshape(-1,1)\n",
    "sonnet_lengths = np.array([len(sonnet) for sonnet in sonnets])\n",
    "hmm.fit(flat_sonnets, sonnet_lengths)"
   ]
  },
  {
   "cell_type": "code",
   "execution_count": 277,
   "metadata": {},
   "outputs": [],
   "source": [
    "# Return a token with the first alphanumeric character capitalized.\n",
    "def capitalize(token):\n",
    "    for i, c in enumerate(token):\n",
    "        if c.isalnum():\n",
    "            break\n",
    "    return token[0:i] + c.upper() + token[i+1:(len(token))]           \n",
    "\n",
    "# Turns the sonnet lines into a sonnet.\n",
    "def process_lines(sonnet_lines, punct):\n",
    "    processed_lines = [[] for i in range(len(sonnet_lines))]\n",
    "    for i, line in enumerate(sonnet_lines):\n",
    "        first_word_idx = i-1 if line[0] in punct else i\n",
    "        if first_word_idx != -1:\n",
    "            processed_lines[first_word_idx].append(line[0])\n",
    "        for j in range(1, len(line)):\n",
    "            processed_lines[i].append(line[j])\n",
    "    \n",
    "    for line in processed_lines:\n",
    "        line[0] = capitalize(line[0])\n",
    "        for i, token in enumerate(line):\n",
    "            if token in ['.', '!', '?'] and i != len(line) - 1:\n",
    "                line[i+1] = capitalize(line[i+1])\n",
    "            elif token in ['i', \"i'll\"]:\n",
    "                line[i] = capitalize(line[i])\n",
    "    \n",
    "    if processed_lines[-1][-1] != '.':\n",
    "        processed_lines[-1].append('.')\n",
    "    \n",
    "    joined_lines = [' '.join(tokens) for tokens in processed_lines]\n",
    "    return '\\n'.join(joined_lines)\n",
    "\n",
    "# Generates a sonnet given a trained hmm and a dictionary mapping numbers to words and words to syllables\n",
    "def generate_sonnet(hmm, syl_dict, num_dict):\n",
    "    '''\n",
    "    Inputs:\n",
    "        hmm: trained HMM\n",
    "        num_dict: maps token number to token\n",
    "        syl_dict: maps token to possible number of syllables\n",
    "    '''\n",
    "    punctuation = ['.',',',':', '?', '!', ';']\n",
    "    emissions, states = hmm.sample(200)\n",
    "    sonnet_lines = [[] for i in range(14)]\n",
    "    state = 0\n",
    "    prev_token_is_punct = False\n",
    "    for i in range(14):\n",
    "        line = sonnet_lines[i]\n",
    "        # List of possible number of syllables in the line so far\n",
    "        possible_syls = [0]\n",
    "        while True:\n",
    "            token_list = hmm._generate_sample_from_state(states[state])\n",
    "            token_num = token_list[0]\n",
    "            token = num_dict[token_num]\n",
    "            token_syls = syl_dict[token]\n",
    "            next_possible_syls = []\n",
    "            for num_syls in possible_syls:\n",
    "                for syls in token_syls[0] + token_syls[1]:\n",
    "                    next_possible_syls.append(syls + num_syls)\n",
    "\n",
    "            # Generate another token and try again with the same state. \n",
    "            if min(next_possible_syls) > 10:\n",
    "                continue\n",
    "            \n",
    "            cur_token_is_punct = token in punctuation\n",
    "            if prev_token_is_punct and cur_token_is_punct:\n",
    "                continue\n",
    "            \n",
    "            prev_token_is_punct = cur_token_is_punct\n",
    "                  \n",
    "            # Line is complete, go to next line.\n",
    "            if 10 in next_possible_syls:\n",
    "                line.append(token)\n",
    "                break           \n",
    "            \n",
    "            # In this case, the line is not complete. Add the token to the sonnet,\n",
    "            # update possible_syls, and increment state.\n",
    "            line.append(token)\n",
    "            state += 1\n",
    "            possible_syls = [a + b for a in possible_syls for b in token_syls[0]]\n",
    "    return process_lines(sonnet_lines, punctuation)"
   ]
  },
  {
   "cell_type": "code",
   "execution_count": 279,
   "metadata": {},
   "outputs": [
    {
     "name": "stdout",
     "output_type": "stream",
     "text": [
      "Pleasure , her and to I ill bay breath it\n",
      "Fair a nature be thee , sum , the who of\n",
      "His love by not it are then , skill of and\n",
      "Present face , who where thy see usurer\n",
      "And away with counted with lend thee once\n",
      "Tell replete by enjoyer and love of\n",
      "He to shalt ? To I remedy well when\n",
      "Belongs once bail ransom but to and it ,\n",
      "Tender an still he to the story thoughts\n",
      "When smell of tongues come linger body better\n",
      "Love where , my looks being self self-doing :\n",
      "From with but , with not my on increase did\n",
      "In am record no the of the , I the\n",
      "Beauty's husbandry true heaven your cools .\n"
     ]
    }
   ],
   "source": [
    "print(generate_sonnet(hmm,syl_dict, num_dict))"
   ]
  },
  {
   "cell_type": "code",
   "execution_count": 221,
   "metadata": {},
   "outputs": [
    {
     "data": {
      "text/plain": [
       "'I'"
      ]
     },
     "execution_count": 221,
     "metadata": {},
     "output_type": "execute_result"
    }
   ],
   "source": [
    "capitalize(\"i\")"
   ]
  },
  {
   "cell_type": "code",
   "execution_count": 171,
   "metadata": {},
   "outputs": [
    {
     "name": "stdout",
     "output_type": "stream",
     "text": [
      "[4, 5, 5, 6]\n"
     ]
    }
   ],
   "source": [
    "print([c + d for c in a for d in b])"
   ]
  },
  {
   "cell_type": "code",
   "execution_count": 211,
   "metadata": {},
   "outputs": [
    {
     "name": "stdout",
     "output_type": "stream",
     "text": [
      "is\n"
     ]
    }
   ],
   "source": [
    "print(this[-2:])"
   ]
  },
  {
   "cell_type": "code",
   "execution_count": null,
   "metadata": {},
   "outputs": [],
   "source": []
  }
 ],
 "metadata": {
  "kernelspec": {
   "display_name": "Python 3",
   "language": "python",
   "name": "python3"
  },
  "language_info": {
   "codemirror_mode": {
    "name": "ipython",
    "version": 3
   },
   "file_extension": ".py",
   "mimetype": "text/x-python",
   "name": "python",
   "nbconvert_exporter": "python",
   "pygments_lexer": "ipython3",
   "version": "3.6.3"
  }
 },
 "nbformat": 4,
 "nbformat_minor": 2
}
