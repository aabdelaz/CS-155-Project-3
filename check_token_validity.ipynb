{
 "cells": [
  {
   "cell_type": "code",
   "execution_count": 1,
   "metadata": {},
   "outputs": [],
   "source": [
    "import numpy as np"
   ]
  },
  {
   "cell_type": "code",
   "execution_count": 18,
   "metadata": {},
   "outputs": [],
   "source": [
    "syl_data = np.loadtxt('./data/Syllable_dictionary.txt', dtype='str', delimiter='\\n')\n",
    "words = set([])\n",
    "for line in syl_data:\n",
    "    syl_list = line.split()\n",
    "    words.add(syl_list[0])\n",
    "\n",
    "words.update(['grossly', 'fickle', 'waning', \"show'st\", 'over', 'wrack',\n",
    "         'withering','goest','onwards', 'minion','detain', 'delayed',\n",
    "         'answered','quietus'])\n",
    "\n",
    "punctuation = ''.join(['.',',',':', '?', '!', ';', ')', '('])"
   ]
  },
  {
   "cell_type": "code",
   "execution_count": 23,
   "metadata": {},
   "outputs": [],
   "source": [
    "def valid_token(words, punctuation, token):\n",
    "    '''\n",
    "    Returns whether the given token is a valid word.  To do this, first strips punctuation from the left and right\n",
    "    of the token, then checks whether it is in words. It treats quotations specially, since they may be part of words;\n",
    "    if a token stripped of punctuation is not in the word set, it also checks if the token stripped of punctuation and\n",
    "    quotes is in the word set.\n",
    "    \n",
    "    Inputs:\n",
    "        words: A set of valid words\n",
    "        punctuation: String of chars which are punctuation.\n",
    "        token: The token whose validity is to be tested\n",
    "    \n",
    "    Returns:\n",
    "        A boolean denoting the validity of the token.\n",
    "    '''\n",
    "    stripped_token = token.lstrip(punctuation).rstrip(punctuation)\n",
    "    if stripped_token in words:\n",
    "        return True\n",
    "    elif stripped_token.lstrip(\"'\").rstrip(\"'\") in words:\n",
    "        return True\n",
    "    return False"
   ]
  },
  {
   "cell_type": "code",
   "execution_count": 25,
   "metadata": {},
   "outputs": [
    {
     "data": {
      "text/plain": [
       "True"
      ]
     },
     "execution_count": 25,
     "metadata": {},
     "output_type": "execute_result"
    }
   ],
   "source": []
  },
  {
   "cell_type": "code",
   "execution_count": null,
   "metadata": {},
   "outputs": [],
   "source": []
  }
 ],
 "metadata": {
  "kernelspec": {
   "display_name": "Python 3",
   "language": "python",
   "name": "python3"
  },
  "language_info": {
   "codemirror_mode": {
    "name": "ipython",
    "version": 3
   },
   "file_extension": ".py",
   "mimetype": "text/x-python",
   "name": "python",
   "nbconvert_exporter": "python",
   "pygments_lexer": "ipython3",
   "version": "3.6.3"
  }
 },
 "nbformat": 4,
 "nbformat_minor": 2
}
